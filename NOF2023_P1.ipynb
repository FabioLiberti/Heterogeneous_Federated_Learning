{
  "nbformat": 4,
  "nbformat_minor": 0,
  "metadata": {
    "colab": {
      "provenance": [],
      "authorship_tag": "ABX9TyMnxZzPL/zl4+w1JwILcs+H",
      "include_colab_link": true
    },
    "kernelspec": {
      "name": "python3",
      "display_name": "Python 3"
    },
    "language_info": {
      "name": "python"
    }
  },
  "cells": [
    {
      "cell_type": "markdown",
      "metadata": {
        "id": "view-in-github",
        "colab_type": "text"
      },
      "source": [
        "<a href=\"https://colab.research.google.com/github/FabioLiberti/Heterogeneous_Federated_Learning/blob/NOF_2023_P1/NOF2023_P1.ipynb\" target=\"_parent\"><img src=\"https://colab.research.google.com/assets/colab-badge.svg\" alt=\"Open In Colab\"/></a>"
      ]
    },
    {
      "cell_type": "code",
      "execution_count": 2,
      "metadata": {
        "colab": {
          "base_uri": "https://localhost:8080/"
        },
        "id": "HHYAYP932TPy",
        "outputId": "473a133b-1b68-4a3a-b0c8-7fc1f8f075f3"
      },
      "outputs": [
        {
          "output_type": "stream",
          "name": "stdout",
          "text": [
            "Cloning into 'nof_2023'...\n",
            "remote: Enumerating objects: 30, done.\u001b[K\n",
            "remote: Counting objects: 100% (16/16), done.\u001b[K\n",
            "remote: Compressing objects: 100% (14/14), done.\u001b[K\n",
            "remote: Total 30 (delta 6), reused 7 (delta 2), pack-reused 14\u001b[K\n",
            "Receiving objects: 100% (30/30), 31.58 MiB | 31.99 MiB/s, done.\n",
            "Resolving deltas: 100% (7/7), done.\n",
            "Requirement already satisfied: poetry in /usr/local/lib/python3.10/dist-packages (1.7.1)\n",
            "Requirement already satisfied: build<2.0.0,>=1.0.3 in /usr/local/lib/python3.10/dist-packages (from poetry) (1.0.3)\n",
            "Requirement already satisfied: cachecontrol[filecache]<0.14.0,>=0.13.0 in /usr/local/lib/python3.10/dist-packages (from poetry) (0.13.1)\n",
            "Requirement already satisfied: cleo<3.0.0,>=2.1.0 in /usr/local/lib/python3.10/dist-packages (from poetry) (2.1.0)\n",
            "Requirement already satisfied: crashtest<0.5.0,>=0.4.1 in /usr/local/lib/python3.10/dist-packages (from poetry) (0.4.1)\n",
            "Requirement already satisfied: dulwich<0.22.0,>=0.21.2 in /usr/local/lib/python3.10/dist-packages (from poetry) (0.21.7)\n",
            "Requirement already satisfied: fastjsonschema<3.0.0,>=2.18.0 in /usr/local/lib/python3.10/dist-packages (from poetry) (2.19.1)\n",
            "Requirement already satisfied: installer<0.8.0,>=0.7.0 in /usr/local/lib/python3.10/dist-packages (from poetry) (0.7.0)\n",
            "Requirement already satisfied: keyring<25.0.0,>=24.0.0 in /usr/local/lib/python3.10/dist-packages (from poetry) (24.3.0)\n",
            "Requirement already satisfied: packaging>=20.5 in /usr/local/lib/python3.10/dist-packages (from poetry) (23.2)\n",
            "Requirement already satisfied: pexpect<5.0.0,>=4.7.0 in /usr/local/lib/python3.10/dist-packages (from poetry) (4.9.0)\n",
            "Requirement already satisfied: pkginfo<2.0.0,>=1.9.4 in /usr/local/lib/python3.10/dist-packages (from poetry) (1.9.6)\n",
            "Requirement already satisfied: platformdirs<4.0.0,>=3.0.0 in /usr/local/lib/python3.10/dist-packages (from poetry) (3.10.0)\n",
            "Requirement already satisfied: poetry-core==1.8.1 in /usr/local/lib/python3.10/dist-packages (from poetry) (1.8.1)\n",
            "Requirement already satisfied: poetry-plugin-export<2.0.0,>=1.6.0 in /usr/local/lib/python3.10/dist-packages (from poetry) (1.6.0)\n",
            "Requirement already satisfied: pyproject-hooks<2.0.0,>=1.0.0 in /usr/local/lib/python3.10/dist-packages (from poetry) (1.0.0)\n",
            "Requirement already satisfied: requests<3.0,>=2.26 in /usr/local/lib/python3.10/dist-packages (from poetry) (2.31.0)\n",
            "Requirement already satisfied: requests-toolbelt<2,>=0.9.1 in /usr/local/lib/python3.10/dist-packages (from poetry) (1.0.0)\n",
            "Requirement already satisfied: shellingham<2.0,>=1.5 in /usr/local/lib/python3.10/dist-packages (from poetry) (1.5.4)\n",
            "Requirement already satisfied: tomli<3.0.0,>=2.0.1 in /usr/local/lib/python3.10/dist-packages (from poetry) (2.0.1)\n",
            "Requirement already satisfied: tomlkit<1.0.0,>=0.11.4 in /usr/local/lib/python3.10/dist-packages (from poetry) (0.12.3)\n",
            "Requirement already satisfied: trove-classifiers>=2022.5.19 in /usr/local/lib/python3.10/dist-packages (from poetry) (2024.1.31)\n",
            "Collecting virtualenv<21.0.0,>=20.23.0 (from poetry)\n",
            "  Using cached virtualenv-20.25.0-py3-none-any.whl (3.8 MB)\n",
            "Requirement already satisfied: msgpack>=0.5.2 in /usr/local/lib/python3.10/dist-packages (from cachecontrol[filecache]<0.14.0,>=0.13.0->poetry) (1.0.7)\n",
            "Requirement already satisfied: filelock>=3.8.0 in /usr/local/lib/python3.10/dist-packages (from cachecontrol[filecache]<0.14.0,>=0.13.0->poetry) (3.12.4)\n",
            "Requirement already satisfied: rapidfuzz<4.0.0,>=3.0.0 in /usr/local/lib/python3.10/dist-packages (from cleo<3.0.0,>=2.1.0->poetry) (3.6.1)\n",
            "Requirement already satisfied: urllib3>=1.25 in /usr/local/lib/python3.10/dist-packages (from dulwich<0.22.0,>=0.21.2->poetry) (2.0.5)\n",
            "Requirement already satisfied: jaraco.classes in /usr/local/lib/python3.10/dist-packages (from keyring<25.0.0,>=24.0.0->poetry) (3.3.1)\n",
            "Requirement already satisfied: importlib-metadata>=4.11.4 in /usr/local/lib/python3.10/dist-packages (from keyring<25.0.0,>=24.0.0->poetry) (7.0.1)\n",
            "Requirement already satisfied: SecretStorage>=3.2 in /usr/lib/python3/dist-packages (from keyring<25.0.0,>=24.0.0->poetry) (3.3.1)\n",
            "Requirement already satisfied: jeepney>=0.4.2 in /usr/lib/python3/dist-packages (from keyring<25.0.0,>=24.0.0->poetry) (0.7.1)\n",
            "Requirement already satisfied: ptyprocess>=0.5 in /usr/local/lib/python3.10/dist-packages (from pexpect<5.0.0,>=4.7.0->poetry) (0.7.0)\n",
            "Requirement already satisfied: charset-normalizer<4,>=2 in /usr/local/lib/python3.10/dist-packages (from requests<3.0,>=2.26->poetry) (3.3.0)\n",
            "Requirement already satisfied: idna<4,>=2.5 in /usr/local/lib/python3.10/dist-packages (from requests<3.0,>=2.26->poetry) (3.4)\n",
            "Requirement already satisfied: certifi>=2017.4.17 in /usr/local/lib/python3.10/dist-packages (from requests<3.0,>=2.26->poetry) (2023.7.22)\n",
            "Requirement already satisfied: distlib<1,>=0.3.7 in /usr/local/lib/python3.10/dist-packages (from virtualenv<21.0.0,>=20.23.0->poetry) (0.3.7)\n",
            "Requirement already satisfied: zipp>=0.5 in /usr/local/lib/python3.10/dist-packages (from importlib-metadata>=4.11.4->keyring<25.0.0,>=24.0.0->poetry) (3.17.0)\n",
            "Requirement already satisfied: more-itertools in /usr/local/lib/python3.10/dist-packages (from jaraco.classes->keyring<25.0.0,>=24.0.0->poetry) (10.1.0)\n",
            "Installing collected packages: virtualenv\n",
            "  Attempting uninstall: virtualenv\n",
            "    Found existing installation: virtualenv 20.21.0\n",
            "    Uninstalling virtualenv-20.21.0:\n",
            "      Successfully uninstalled virtualenv-20.21.0\n",
            "Successfully installed virtualenv-20.25.0\n",
            "Warning: poetry-plugin-export will not be installed by default in a future version of Poetry.\n",
            "In order to avoid a breaking change and make your automation forward-compatible, please install poetry-plugin-export explicitly. See https://python-poetry.org/docs/plugins/#using-plugins for details on how to install a plugin.\n",
            "To disable this warning run 'poetry config warnings.export false'.\n",
            "Warning: poetry.lock is not consistent with pyproject.toml. You may be getting improper dependencies. Run `poetry lock [--no-update]` to fix it.\n",
            "Ignoring ansicon: markers 'python_version >= \"3.10\" and python_version < \"3.11\" and platform_system == \"Windows\"' don't match your environment\n",
            "Ignoring colorama: markers 'python_version >= \"3.10\" and python_version < \"3.11\" and platform_system == \"Windows\"' don't match your environment\n",
            "Ignoring jinxed: markers 'python_version >= \"3.10\" and python_version < \"3.11\" and platform_system == \"Windows\"' don't match your environment\n",
            "Requirement already satisfied: absl-py==2.0.0 in /usr/local/lib/python3.10/dist-packages (from -r /dev/fd/63 (line 1)) (2.0.0)\n",
            "Requirement already satisfied: aiohttp-cors==0.7.0 in /usr/local/lib/python3.10/dist-packages (from -r /dev/fd/63 (line 4)) (0.7.0)\n",
            "Requirement already satisfied: aiohttp==3.8.5 in /usr/local/lib/python3.10/dist-packages (from -r /dev/fd/63 (line 7)) (3.8.5)\n",
            "Requirement already satisfied: aiosignal==1.3.1 in /usr/local/lib/python3.10/dist-packages (from -r /dev/fd/63 (line 95)) (1.3.1)\n",
            "Requirement already satisfied: antlr4-python3-runtime==4.9.3 in /usr/local/lib/python3.10/dist-packages (from -r /dev/fd/63 (line 101)) (4.9.3)\n",
            "Requirement already satisfied: astunparse==1.6.3 in /usr/local/lib/python3.10/dist-packages (from -r /dev/fd/63 (line 103)) (1.6.3)\n",
            "Requirement already satisfied: async-timeout==4.0.3 in /usr/local/lib/python3.10/dist-packages (from -r /dev/fd/63 (line 106)) (4.0.3)\n",
            "Requirement already satisfied: attrs==23.1.0 in /usr/local/lib/python3.10/dist-packages (from -r /dev/fd/63 (line 109)) (23.1.0)\n",
            "Requirement already satisfied: blessed==1.20.0 in /usr/local/lib/python3.10/dist-packages (from -r /dev/fd/63 (line 112)) (1.20.0)\n",
            "Requirement already satisfied: cachetools==5.3.1 in /usr/local/lib/python3.10/dist-packages (from -r /dev/fd/63 (line 115)) (5.3.1)\n",
            "Requirement already satisfied: certifi==2023.7.22 in /usr/local/lib/python3.10/dist-packages (from -r /dev/fd/63 (line 118)) (2023.7.22)\n",
            "Requirement already satisfied: cffi==1.16.0 in /usr/local/lib/python3.10/dist-packages (from -r /dev/fd/63 (line 121)) (1.16.0)\n",
            "Requirement already satisfied: charset-normalizer==3.3.0 in /usr/local/lib/python3.10/dist-packages (from -r /dev/fd/63 (line 174)) (3.3.0)\n",
            "Requirement already satisfied: click==8.1.7 in /usr/local/lib/python3.10/dist-packages (from -r /dev/fd/63 (line 265)) (8.1.7)\n",
            "Requirement already satisfied: colorful==0.5.5 in /usr/local/lib/python3.10/dist-packages (from -r /dev/fd/63 (line 271)) (0.5.5)\n",
            "Requirement already satisfied: contourpy==1.1.1 in /usr/local/lib/python3.10/dist-packages (from -r /dev/fd/63 (line 274)) (1.1.1)\n",
            "Requirement already satisfied: cryptography==41.0.4 in /usr/local/lib/python3.10/dist-packages (from -r /dev/fd/63 (line 327)) (41.0.4)\n",
            "Requirement already satisfied: cycler==0.12.0 in /usr/local/lib/python3.10/dist-packages (from -r /dev/fd/63 (line 351)) (0.12.0)\n",
            "Requirement already satisfied: distlib==0.3.7 in /usr/local/lib/python3.10/dist-packages (from -r /dev/fd/63 (line 354)) (0.3.7)\n",
            "Requirement already satisfied: filelock==3.12.4 in /usr/local/lib/python3.10/dist-packages (from -r /dev/fd/63 (line 357)) (3.12.4)\n",
            "Requirement already satisfied: flatbuffers==23.5.26 in /usr/local/lib/python3.10/dist-packages (from -r /dev/fd/63 (line 360)) (23.5.26)\n",
            "Requirement already satisfied: flwr[simulation]==1.5.0 in /usr/local/lib/python3.10/dist-packages (from -r /dev/fd/63 (line 363)) (1.5.0)\n",
            "Requirement already satisfied: fonttools==4.43.0 in /usr/local/lib/python3.10/dist-packages (from -r /dev/fd/63 (line 366)) (4.43.0)\n",
            "Requirement already satisfied: frozenlist==1.4.0 in /usr/local/lib/python3.10/dist-packages (from -r /dev/fd/63 (line 409)) (1.4.0)\n",
            "Requirement already satisfied: gast==0.4.0 in /usr/local/lib/python3.10/dist-packages (from -r /dev/fd/63 (line 471)) (0.4.0)\n",
            "Requirement already satisfied: google-api-core==2.12.0 in /usr/local/lib/python3.10/dist-packages (from -r /dev/fd/63 (line 474)) (2.12.0)\n",
            "Requirement already satisfied: google-auth-oauthlib==0.4.6 in /usr/local/lib/python3.10/dist-packages (from -r /dev/fd/63 (line 477)) (0.4.6)\n",
            "Requirement already satisfied: google-auth==2.23.2 in /usr/local/lib/python3.10/dist-packages (from -r /dev/fd/63 (line 480)) (2.23.2)\n",
            "Requirement already satisfied: google-pasta==0.2.0 in /usr/local/lib/python3.10/dist-packages (from -r /dev/fd/63 (line 483)) (0.2.0)\n",
            "Requirement already satisfied: googleapis-common-protos==1.60.0 in /usr/local/lib/python3.10/dist-packages (from -r /dev/fd/63 (line 487)) (1.60.0)\n",
            "Requirement already satisfied: gpustat==1.1.1 in /usr/local/lib/python3.10/dist-packages (from -r /dev/fd/63 (line 490)) (1.1.1)\n",
            "Requirement already satisfied: grpcio==1.59.0 in /usr/local/lib/python3.10/dist-packages (from -r /dev/fd/63 (line 492)) (1.59.0)\n",
            "Requirement already satisfied: h5py==3.6.0 in /usr/local/lib/python3.10/dist-packages (from -r /dev/fd/63 (line 547)) (3.6.0)\n",
            "Requirement already satisfied: hydra-core==1.3.2 in /usr/local/lib/python3.10/dist-packages (from -r /dev/fd/63 (line 564)) (1.3.2)\n",
            "Requirement already satisfied: idna==3.4 in /usr/local/lib/python3.10/dist-packages (from -r /dev/fd/63 (line 567)) (3.4)\n",
            "Requirement already satisfied: iterators==0.0.2 in /usr/local/lib/python3.10/dist-packages (from -r /dev/fd/63 (line 570)) (0.0.2)\n",
            "Requirement already satisfied: joblib==1.3.2 in /usr/local/lib/python3.10/dist-packages (from -r /dev/fd/63 (line 576)) (1.3.2)\n",
            "Requirement already satisfied: jsonschema-specifications==2023.7.1 in /usr/local/lib/python3.10/dist-packages (from -r /dev/fd/63 (line 579)) (2023.7.1)\n",
            "Requirement already satisfied: jsonschema==4.19.1 in /usr/local/lib/python3.10/dist-packages (from -r /dev/fd/63 (line 582)) (4.19.1)\n",
            "Requirement already satisfied: keras-preprocessing==1.1.2 in /usr/local/lib/python3.10/dist-packages (from -r /dev/fd/63 (line 585)) (1.1.2)\n",
            "Requirement already satisfied: keras==2.10.0 in /usr/local/lib/python3.10/dist-packages (from -r /dev/fd/63 (line 588)) (2.10.0)\n",
            "Requirement already satisfied: kiwisolver==1.4.5 in /usr/local/lib/python3.10/dist-packages (from -r /dev/fd/63 (line 590)) (1.4.5)\n",
            "Requirement already satisfied: libclang==16.0.6 in /usr/local/lib/python3.10/dist-packages (from -r /dev/fd/63 (line 695)) (16.0.6)\n",
            "Requirement already satisfied: markdown==3.4.4 in /usr/local/lib/python3.10/dist-packages (from -r /dev/fd/63 (line 707)) (3.4.4)\n",
            "Requirement already satisfied: markupsafe==2.1.3 in /usr/local/lib/python3.10/dist-packages (from -r /dev/fd/63 (line 710)) (2.1.3)\n",
            "Requirement already satisfied: matplotlib==3.8.0 in /usr/local/lib/python3.10/dist-packages (from -r /dev/fd/63 (line 771)) (3.8.0)\n",
            "Requirement already satisfied: msgpack==1.0.7 in /usr/local/lib/python3.10/dist-packages (from -r /dev/fd/63 (line 800)) (1.0.7)\n",
            "Requirement already satisfied: multidict==6.0.4 in /usr/local/lib/python3.10/dist-packages (from -r /dev/fd/63 (line 857)) (6.0.4)\n",
            "Requirement already satisfied: numpy==1.23.2 in /usr/local/lib/python3.10/dist-packages (from -r /dev/fd/63 (line 932)) (1.23.2)\n",
            "Requirement already satisfied: nvidia-ml-py==12.535.108 in /usr/local/lib/python3.10/dist-packages (from -r /dev/fd/63 (line 961)) (12.535.108)\n",
            "Requirement already satisfied: oauthlib==3.2.2 in /usr/local/lib/python3.10/dist-packages (from -r /dev/fd/63 (line 964)) (3.2.2)\n",
            "Requirement already satisfied: omegaconf==2.3.0 in /usr/local/lib/python3.10/dist-packages (from -r /dev/fd/63 (line 967)) (2.3.0)\n",
            "Requirement already satisfied: opencensus-context==0.1.3 in /usr/local/lib/python3.10/dist-packages (from -r /dev/fd/63 (line 970)) (0.1.3)\n",
            "Requirement already satisfied: opencensus==0.11.3 in /usr/local/lib/python3.10/dist-packages (from -r /dev/fd/63 (line 973)) (0.11.3)\n",
            "Requirement already satisfied: opt-einsum==3.3.0 in /usr/local/lib/python3.10/dist-packages (from -r /dev/fd/63 (line 976)) (3.3.0)\n",
            "Requirement already satisfied: packaging==23.2 in /usr/local/lib/python3.10/dist-packages (from -r /dev/fd/63 (line 979)) (23.2)\n",
            "Requirement already satisfied: pandas==2.1.1 in /usr/local/lib/python3.10/dist-packages (from -r /dev/fd/63 (line 982)) (2.1.1)\n",
            "Requirement already satisfied: pillow==10.0.1 in /usr/local/lib/python3.10/dist-packages (from -r /dev/fd/63 (line 1008)) (10.0.1)\n",
            "Requirement already satisfied: platformdirs==3.10.0 in /usr/local/lib/python3.10/dist-packages (from -r /dev/fd/63 (line 1063)) (3.10.0)\n",
            "Requirement already satisfied: prometheus-client==0.17.1 in /usr/local/lib/python3.10/dist-packages (from -r /dev/fd/63 (line 1066)) (0.17.1)\n",
            "Requirement already satisfied: protobuf==3.19.6 in /usr/local/lib/python3.10/dist-packages (from -r /dev/fd/63 (line 1069)) (3.19.6)\n",
            "Requirement already satisfied: psutil==5.9.5 in /usr/local/lib/python3.10/dist-packages (from -r /dev/fd/63 (line 1095)) (5.9.5)\n",
            "Requirement already satisfied: py-spy==0.3.14 in /usr/local/lib/python3.10/dist-packages (from -r /dev/fd/63 (line 1110)) (0.3.14)\n",
            "Requirement already satisfied: pyasn1-modules==0.3.0 in /usr/local/lib/python3.10/dist-packages (from -r /dev/fd/63 (line 1118)) (0.3.0)\n",
            "Requirement already satisfied: pyasn1==0.5.0 in /usr/local/lib/python3.10/dist-packages (from -r /dev/fd/63 (line 1121)) (0.5.0)\n",
            "Requirement already satisfied: pycparser==2.21 in /usr/local/lib/python3.10/dist-packages (from -r /dev/fd/63 (line 1124)) (2.21)\n",
            "Requirement already satisfied: pycryptodome==3.19.0 in /usr/local/lib/python3.10/dist-packages (from -r /dev/fd/63 (line 1127)) (3.19.0)\n",
            "Requirement already satisfied: pydantic==1.10.13 in /usr/local/lib/python3.10/dist-packages (from -r /dev/fd/63 (line 1160)) (1.10.13)\n",
            "Requirement already satisfied: pyparsing==3.1.1 in /usr/local/lib/python3.10/dist-packages (from -r /dev/fd/63 (line 1197)) (3.1.1)\n",
            "Requirement already satisfied: python-dateutil==2.8.2 in /usr/local/lib/python3.10/dist-packages (from -r /dev/fd/63 (line 1200)) (2.8.2)\n",
            "Requirement already satisfied: pytz==2023.3.post1 in /usr/local/lib/python3.10/dist-packages (from -r /dev/fd/63 (line 1203)) (2023.3.post1)\n",
            "Requirement already satisfied: pyyaml==6.0.1 in /usr/local/lib/python3.10/dist-packages (from -r /dev/fd/63 (line 1206)) (6.0.1)\n",
            "Requirement already satisfied: ray[default]==2.6.3 in /usr/local/lib/python3.10/dist-packages (from -r /dev/fd/63 (line 1257)) (2.6.3)\n",
            "Requirement already satisfied: referencing==0.30.2 in /usr/local/lib/python3.10/dist-packages (from -r /dev/fd/63 (line 1282)) (0.30.2)\n",
            "Requirement already satisfied: requests-oauthlib==1.3.1 in /usr/local/lib/python3.10/dist-packages (from -r /dev/fd/63 (line 1285)) (1.3.1)\n",
            "Requirement already satisfied: requests==2.31.0 in /usr/local/lib/python3.10/dist-packages (from -r /dev/fd/63 (line 1288)) (2.31.0)\n",
            "Requirement already satisfied: rpds-py==0.10.3 in /usr/local/lib/python3.10/dist-packages (from -r /dev/fd/63 (line 1291)) (0.10.3)\n",
            "Requirement already satisfied: rsa==4.9 in /usr/local/lib/python3.10/dist-packages (from -r /dev/fd/63 (line 1389)) (4.9)\n",
            "Requirement already satisfied: scikit-learn==1.3.1 in /usr/local/lib/python3.10/dist-packages (from -r /dev/fd/63 (line 1392)) (1.3.1)\n",
            "Requirement already satisfied: scipy==1.11.3 in /usr/local/lib/python3.10/dist-packages (from -r /dev/fd/63 (line 1414)) (1.11.3)\n",
            "Requirement already satisfied: setuptools-scm==8.0.3 in /usr/local/lib/python3.10/dist-packages (from -r /dev/fd/63 (line 1440)) (8.0.3)\n",
            "Requirement already satisfied: setuptools==68.2.2 in /usr/local/lib/python3.10/dist-packages (from -r /dev/fd/63 (line 1443)) (68.2.2)\n",
            "Requirement already satisfied: six==1.16.0 in /usr/local/lib/python3.10/dist-packages (from -r /dev/fd/63 (line 1446)) (1.16.0)\n",
            "Requirement already satisfied: smart-open==6.4.0 in /usr/local/lib/python3.10/dist-packages (from -r /dev/fd/63 (line 1449)) (6.4.0)\n",
            "Requirement already satisfied: tensorboard-data-server==0.6.1 in /usr/local/lib/python3.10/dist-packages (from -r /dev/fd/63 (line 1452)) (0.6.1)\n",
            "Requirement already satisfied: tensorboard-plugin-wit==1.8.1 in /usr/local/lib/python3.10/dist-packages (from -r /dev/fd/63 (line 1456)) (1.8.1)\n",
            "Requirement already satisfied: tensorboard==2.10.1 in /usr/local/lib/python3.10/dist-packages (from -r /dev/fd/63 (line 1458)) (2.10.1)\n",
            "Requirement already satisfied: tensorflow-estimator==2.10.0 in /usr/local/lib/python3.10/dist-packages (from -r /dev/fd/63 (line 1460)) (2.10.0)\n",
            "Requirement already satisfied: tensorflow-io-gcs-filesystem==0.34.0 in /usr/local/lib/python3.10/dist-packages (from -r /dev/fd/63 (line 1462)) (0.34.0)\n",
            "Requirement already satisfied: tensorflow==2.10.1 in /usr/local/lib/python3.10/dist-packages (from -r /dev/fd/63 (line 1482)) (2.10.1)\n",
            "Requirement already satisfied: termcolor==2.3.0 in /usr/local/lib/python3.10/dist-packages (from -r /dev/fd/63 (line 1499)) (2.3.0)\n",
            "Requirement already satisfied: threadpoolctl==3.2.0 in /usr/local/lib/python3.10/dist-packages (from -r /dev/fd/63 (line 1502)) (3.2.0)\n",
            "Requirement already satisfied: tomli==2.0.1 in /usr/local/lib/python3.10/dist-packages (from -r /dev/fd/63 (line 1505)) (2.0.1)\n",
            "Requirement already satisfied: typing-extensions==4.8.0 in /usr/local/lib/python3.10/dist-packages (from -r /dev/fd/63 (line 1508)) (4.8.0)\n",
            "Requirement already satisfied: tzdata==2023.3 in /usr/local/lib/python3.10/dist-packages (from -r /dev/fd/63 (line 1511)) (2023.3)\n",
            "Requirement already satisfied: urllib3==2.0.5 in /usr/local/lib/python3.10/dist-packages (from -r /dev/fd/63 (line 1514)) (2.0.5)\n",
            "Collecting virtualenv==20.21.0 (from -r /dev/fd/63 (line 1517))\n",
            "  Using cached virtualenv-20.21.0-py3-none-any.whl (8.7 MB)\n",
            "Requirement already satisfied: wcwidth==0.2.8 in /usr/local/lib/python3.10/dist-packages (from -r /dev/fd/63 (line 1520)) (0.2.8)\n",
            "Requirement already satisfied: werkzeug==3.0.0 in /usr/local/lib/python3.10/dist-packages (from -r /dev/fd/63 (line 1523)) (3.0.0)\n",
            "Requirement already satisfied: wheel==0.41.2 in /usr/local/lib/python3.10/dist-packages (from -r /dev/fd/63 (line 1526)) (0.41.2)\n",
            "Requirement already satisfied: wrapt==1.15.0 in /usr/local/lib/python3.10/dist-packages (from -r /dev/fd/63 (line 1529)) (1.15.0)\n",
            "Requirement already satisfied: yarl==1.9.2 in /usr/local/lib/python3.10/dist-packages (from -r /dev/fd/63 (line 1605)) (1.9.2)\n",
            "Installing collected packages: virtualenv\n",
            "  Attempting uninstall: virtualenv\n",
            "    Found existing installation: virtualenv 20.25.0\n",
            "    Uninstalling virtualenv-20.25.0:\n",
            "      Successfully uninstalled virtualenv-20.25.0\n",
            "\u001b[31mERROR: pip's dependency resolver does not currently take into account all the packages that are installed. This behaviour is the source of the following dependency conflicts.\n",
            "poetry 1.7.1 requires virtualenv<21.0.0,>=20.23.0, but you have virtualenv 20.21.0 which is incompatible.\u001b[0m\u001b[31m\n",
            "\u001b[0mSuccessfully installed virtualenv-20.21.0\n"
          ]
        }
      ],
      "source": [
        "import os\n",
        "from IPython.core.getipython import get_ipython\n",
        "\n",
        "if \"google.colab\" in str(get_ipython()):\n",
        "    !git clone https://github.com/phdcybersec/nof_2023.git\n",
        "    %pip install poetry\n",
        "    %pip install -r <(poetry export -C nof_2023/)\n",
        "    !rm -r nof_2023/"
      ]
    },
    {
      "cell_type": "code",
      "source": [
        "os.environ[\"TF_CPP_MIN_LOG_LEVEL\"] = \"3\"\n",
        "\n",
        "from flwr.common import Metrics\n",
        "import matplotlib.pyplot as plt\n",
        "import numpy as np\n",
        "import tensorflow as tf\n",
        "import math\n",
        "import flwr\n",
        "from tensorflow import keras\n",
        "from flwr.simulation.ray_transport.utils import enable_tf_gpu_growth\n",
        "from numpy.typing import NDArray\n",
        "from typing import cast\n",
        "from typing import Callable"
      ],
      "metadata": {
        "id": "GqdU1_-w3ijl"
      },
      "execution_count": 3,
      "outputs": []
    },
    {
      "cell_type": "code",
      "source": [
        "print(\"TensorFlow version:\", tf.__version__)\n",
        "print(f\"Num GPUs Available: {len(tf.config.list_physical_devices('GPU'))}\")\n",
        "enable_tf_gpu_growth()"
      ],
      "metadata": {
        "colab": {
          "base_uri": "https://localhost:8080/"
        },
        "id": "FeQfA9IH38Qq",
        "outputId": "4a826cf1-fb63-4fb0-eb3d-2041d381ea32"
      },
      "execution_count": 4,
      "outputs": [
        {
          "output_type": "stream",
          "name": "stdout",
          "text": [
            "TensorFlow version: 2.10.1\n",
            "Num GPUs Available: 0\n"
          ]
        }
      ]
    },
    {
      "cell_type": "code",
      "source": [
        "SEED = 1138\n",
        "keras.utils.set_random_seed(SEED)\n",
        "tf.config.experimental.enable_op_determinism()"
      ],
      "metadata": {
        "id": "YmMbSbFP4CrK"
      },
      "execution_count": 5,
      "outputs": []
    },
    {
      "cell_type": "code",
      "source": [
        "def load_mnist():\n",
        "    (x_train, y_train), (x_test, y_test) = keras.datasets.mnist.load_data()\n",
        "\n",
        "    # Scale images to the [0, 1] range\n",
        "    x_train = x_train.astype(\"float32\") / 255\n",
        "    x_test = x_test.astype(\"float32\") / 255\n",
        "\n",
        "    # Make sure images have shape (28, 28, 1)\n",
        "    print(\"x_train shape:\", x_train.shape)\n",
        "    print(x_train.shape[0], \"train samples\")\n",
        "    print(x_test.shape[0], \"test samples\")\n",
        "\n",
        "    # convert class vectors to binary class matrices\n",
        "    y_train = keras.utils.to_categorical(y_train, 10)\n",
        "    y_test = keras.utils.to_categorical(y_test, 10)\n",
        "\n",
        "    return (x_train, y_train), (x_test, y_test)"
      ],
      "metadata": {
        "id": "Mb7-HrIH4Kxo"
      },
      "execution_count": 6,
      "outputs": []
    },
    {
      "cell_type": "code",
      "source": [
        "(x_train, y_train), (x_test, y_test) = load_mnist()\n",
        "\n",
        "fig, ax = plt.subplots(2, 5)\n",
        "for i, ax in enumerate(ax.flatten()):\n",
        "    im_idx = np.argwhere(y_train[:, i] == 1)[0]\n",
        "    plottable_image = np.reshape(x_train[im_idx], (28, 28))\n",
        "    ax.get_xaxis().set_ticks([])\n",
        "    ax.get_yaxis().set_ticks([])\n",
        "    ax.imshow(plottable_image, cmap=\"gray_r\")"
      ],
      "metadata": {
        "colab": {
          "base_uri": "https://localhost:8080/",
          "height": 411
        },
        "id": "wfZ8ylxM4QYY",
        "outputId": "c3087166-637e-4024-e805-12e9f5833323"
      },
      "execution_count": 7,
      "outputs": [
        {
          "output_type": "stream",
          "name": "stdout",
          "text": [
            "Downloading data from https://storage.googleapis.com/tensorflow/tf-keras-datasets/mnist.npz\n",
            "11490434/11490434 [==============================] - 0s 0us/step\n",
            "x_train shape: (60000, 28, 28)\n",
            "60000 train samples\n",
            "10000 test samples\n"
          ]
        },
        {
          "output_type": "display_data",
          "data": {
            "text/plain": [
              "<Figure size 640x480 with 10 Axes>"
            ],
            "image/png": "[encoded data removed]"
          },
          "metadata": {}
        }
      ]
    },
    {
      "cell_type": "code",
      "source": [
        "print(\"y_train shape:\", y_train.shape)\n",
        "print(\"example:\", y_train[0])\n",
        "# show the first image\n",
        "plt.imshow(x_train[0].reshape(28, 28), cmap=\"gray_r\")"
      ],
      "metadata": {
        "colab": {
          "base_uri": "https://localhost:8080/",
          "height": 482
        },
        "id": "_MVgHGze4Y8b",
        "outputId": "48de818e-e532-4f44-8938-7ae97fde8b9f"
      },
      "execution_count": 8,
      "outputs": [
        {
          "output_type": "stream",
          "name": "stdout",
          "text": [
            "y_train shape: (60000, 10)\n",
            "example: [0. 0. 0. 0. 0. 1. 0. 0. 0. 0.]\n"
          ]
        },
        {
          "output_type": "execute_result",
          "data": {
            "text/plain": [
              "<matplotlib.image.AxesImage at 0x7924849f05b0>"
            ]
          },
          "metadata": {},
          "execution_count": 8
        },
        {
          "output_type": "display_data",
          "data": {
            "text/plain": [
              "<Figure size 640x480 with 1 Axes>"
            ],
            "image/png": "[encoded data removed]"
          },
          "metadata": {}
        }
      ]
    },
    {
      "cell_type": "code",
      "source": [
        "def partition(num_shards: int, dataset: tuple[NDArray, NDArray]):\n",
        "    \"\"\"Download and partitions the MNIST dataset.\"\"\"\n",
        "    X, y = dataset\n",
        "    partitions = []\n",
        "    # We keep all partitions equal-sized in this example\n",
        "    partition_size = math.floor(len(X) / num_shards)\n",
        "    shuffle_idx = np.random.permutation(len(X))\n",
        "    # X, y = X[shuffle_idx], y[shuffle_idx]\n",
        "    for cid in range(num_shards):\n",
        "        # Split dataset into non-overlapping NUM_CLIENT partitions\n",
        "        idx_from, idx_to = int(cid) * partition_size, (int(cid) + 1) * partition_size\n",
        "        partitions.append((X[idx_from:idx_to], y[idx_from:idx_to]))\n",
        "    return partitions"
      ],
      "metadata": {
        "id": "H5hyfb3i4ix0"
      },
      "execution_count": 9,
      "outputs": []
    },
    {
      "cell_type": "code",
      "source": [
        "# Model / data parameters\n",
        "BATCH_SIZE = 128\n",
        "NUM_CLIENTS = 100"
      ],
      "metadata": {
        "id": "CLdBCVJF4pk4"
      },
      "execution_count": 10,
      "outputs": []
    },
    {
      "cell_type": "code",
      "source": [
        "def mk_model() -> keras.Model:\n",
        "    \"\"\"Create a simple DNN model for MNIST classification.\"\"\"\n",
        "\n",
        "    model = tf.keras.models.Sequential(\n",
        "        [\n",
        "            tf.keras.layers.Flatten(input_shape=(28, 28)),\n",
        "            tf.keras.layers.Dense(128, activation=\"relu\"),\n",
        "            tf.keras.layers.Dropout(0.2),\n",
        "            tf.keras.layers.Dense(10, activation=\"softmax\"),\n",
        "        ]\n",
        "    )\n",
        "\n",
        "    model.compile(\n",
        "        loss=\"categorical_crossentropy\", optimizer=\"adam\", metrics=[\"accuracy\"]\n",
        "    )\n",
        "\n",
        "    return model\n",
        "\n",
        "\n",
        "mk_model().summary()"
      ],
      "metadata": {
        "colab": {
          "base_uri": "https://localhost:8080/"
        },
        "id": "7Gg14YmS4u4U",
        "outputId": "06714831-723f-40c5-d7f8-f12bfef70e80"
      },
      "execution_count": 11,
      "outputs": [
        {
          "output_type": "stream",
          "name": "stdout",
          "text": [
            "Model: \"sequential\"\n",
            "_________________________________________________________________\n",
            " Layer (type)                Output Shape              Param #   \n",
            "=================================================================\n",
            " flatten (Flatten)           (None, 784)               0         \n",
            "                                                                 \n",
            " dense (Dense)               (None, 128)               100480    \n",
            "                                                                 \n",
            " dropout (Dropout)           (None, 128)               0         \n",
            "                                                                 \n",
            " dense_1 (Dense)             (None, 10)                1290      \n",
            "                                                                 \n",
            "=================================================================\n",
            "Total params: 101,770\n",
            "Trainable params: 101,770\n",
            "Non-trainable params: 0\n",
            "_________________________________________________________________\n"
          ]
        }
      ]
    },
    {
      "cell_type": "code",
      "source": [
        "EPOCHS = 10\n",
        "\n",
        "(x_train, y_train), (x_test, y_test) = load_mnist()\n",
        "shards = partition(NUM_CLIENTS, (x_train, y_train))\n",
        "\n",
        "# test the performance of the model on client 1\n",
        "x_train, y_train = shards[0]\n",
        "\n",
        "model = mk_model()\n",
        "hist = model.fit(\n",
        "    x_train, y_train, batch_size=BATCH_SIZE, epochs=EPOCHS, validation_split=0.1\n",
        ")"
      ],
      "metadata": {
        "colab": {
          "base_uri": "https://localhost:8080/"
        },
        "id": "iHxtxzR44y2K",
        "outputId": "02646ff5-a69c-44ac-c4a1-5f1039cc9431"
      },
      "execution_count": 12,
      "outputs": [
        {
          "output_type": "stream",
          "name": "stdout",
          "text": [
            "x_train shape: (60000, 28, 28)\n",
            "60000 train samples\n",
            "10000 test samples\n",
            "Epoch 1/10\n",
            "5/5 [==============================] - 1s 74ms/step - loss: 2.1530 - accuracy: 0.2648 - val_loss: 1.8504 - val_accuracy: 0.5833\n",
            "Epoch 2/10\n",
            "5/5 [==============================] - 0s 12ms/step - loss: 1.6502 - accuracy: 0.6278 - val_loss: 1.5177 - val_accuracy: 0.6833\n",
            "Epoch 3/10\n",
            "5/5 [==============================] - 0s 12ms/step - loss: 1.2817 - accuracy: 0.7333 - val_loss: 1.2286 - val_accuracy: 0.7833\n",
            "Epoch 4/10\n",
            "5/5 [==============================] - 0s 13ms/step - loss: 0.9884 - accuracy: 0.7796 - val_loss: 1.0196 - val_accuracy: 0.8500\n",
            "Epoch 5/10\n",
            "5/5 [==============================] - 0s 16ms/step - loss: 0.7811 - accuracy: 0.8222 - val_loss: 0.8545 - val_accuracy: 0.8333\n",
            "Epoch 6/10\n",
            "5/5 [==============================] - 0s 14ms/step - loss: 0.6570 - accuracy: 0.8500 - val_loss: 0.7415 - val_accuracy: 0.8500\n",
            "Epoch 7/10\n",
            "5/5 [==============================] - 0s 13ms/step - loss: 0.5370 - accuracy: 0.8815 - val_loss: 0.6643 - val_accuracy: 0.8333\n",
            "Epoch 8/10\n",
            "5/5 [==============================] - 0s 12ms/step - loss: 0.4833 - accuracy: 0.8667 - val_loss: 0.5970 - val_accuracy: 0.8500\n",
            "Epoch 9/10\n",
            "5/5 [==============================] - 0s 13ms/step - loss: 0.4353 - accuracy: 0.9019 - val_loss: 0.5523 - val_accuracy: 0.8500\n",
            "Epoch 10/10\n",
            "5/5 [==============================] - 0s 12ms/step - loss: 0.3674 - accuracy: 0.9093 - val_loss: 0.5187 - val_accuracy: 0.8667\n"
          ]
        }
      ]
    },
    {
      "cell_type": "code",
      "source": [
        "score = model.evaluate(x_test, y_test)\n",
        "print(\"Test loss:\", score[0])\n",
        "print(\"Test accuracy:\", score[1])"
      ],
      "metadata": {
        "colab": {
          "base_uri": "https://localhost:8080/"
        },
        "id": "-eKn5_WX5DWq",
        "outputId": "1ec707f9-b514-4199-86a6-696420c4ede7"
      },
      "execution_count": 13,
      "outputs": [
        {
          "output_type": "stream",
          "name": "stdout",
          "text": [
            "313/313 [==============================] - 1s 3ms/step - loss: 0.6072 - accuracy: 0.8175\n",
            "Test loss: 0.6072008013725281\n",
            "Test accuracy: 0.8174999952316284\n"
          ]
        }
      ]
    },
    {
      "cell_type": "code",
      "source": [
        "def get_evaluate_fn(testset):\n",
        "    \"\"\"Return an evaluation function for server-side (i.e. centralized) evaluation.\"\"\"\n",
        "    x_test, y_test = testset\n",
        "\n",
        "    # The `evaluate` function will be called after every round by the strategy\n",
        "    def evaluate(\n",
        "        server_round: int,\n",
        "        parameters: flwr.common.NDArrays,\n",
        "        config: dict[str, flwr.common.Scalar],\n",
        "    ):\n",
        "        model = mk_model()  # Construct the model\n",
        "        model.set_weights(parameters)  # Update model with the latest parameters\n",
        "        loss, accuracy = model.evaluate(x_test, y_test, verbose=cast(str, 0))\n",
        "        return loss, {\"accuracy\": accuracy}\n",
        "\n",
        "    return evaluate"
      ],
      "metadata": {
        "id": "JgzoJkNR5O8H"
      },
      "execution_count": 14,
      "outputs": []
    },
    {
      "cell_type": "code",
      "source": [
        "class FlowerClient(flwr.client.NumPyClient):\n",
        "    def __init__(self, x_train, y_train):  # , x_eval, y_eval) -> None:\n",
        "        # Create model\n",
        "        self.model = mk_model()\n",
        "        self.x_train, self.y_train = x_train, y_train\n",
        "        # self.x_eval, self.y_eval = x_eval, y_eval\n",
        "\n",
        "    def get_parameters(self, config):\n",
        "        return self.model.get_weights()\n",
        "\n",
        "    def fit(self, parameters, config):\n",
        "        self.model.set_weights(parameters)\n",
        "        self.model.fit(\n",
        "            self.x_train,\n",
        "            self.y_train,\n",
        "            epochs=1,\n",
        "            batch_size=BATCH_SIZE,\n",
        "            verbose=cast(str, 0),\n",
        "            validation_split=0.1,\n",
        "        )\n",
        "        return self.model.get_weights(), len(self.x_train), {}"
      ],
      "metadata": {
        "id": "b7w6x4vH5Ul6"
      },
      "execution_count": 15,
      "outputs": []
    },
    {
      "cell_type": "code",
      "source": [
        "def mk_client_fn(\n",
        "    partitions: list[tuple[NDArray, NDArray]]\n",
        ") -> Callable[[str], FlowerClient]:\n",
        "    \"\"\"Return a function which creates a new FlowerClient for a given partition.\"\"\"\n",
        "\n",
        "    def client_fn(cid: str) -> FlowerClient:\n",
        "        \"\"\"Create a new FlowerClient for partition i.\"\"\"\n",
        "        x_train, y_train = partitions[int(cid)]\n",
        "        return FlowerClient(x_train, y_train)\n",
        "\n",
        "    return client_fn"
      ],
      "metadata": {
        "id": "yf-r9BE_5ZUE"
      },
      "execution_count": 16,
      "outputs": []
    },
    {
      "cell_type": "code",
      "source": [
        "# Enable GPU growth in your main process\n",
        "enable_tf_gpu_growth()\n",
        "\n",
        "# Create dataset partitions (needed if your dataset is not pre-partitioned)\n",
        "trainset, testset = load_mnist()\n",
        "partitions = partition(NUM_CLIENTS, trainset)\n",
        "\n",
        "\n",
        "# Create FedAvg strategy\n",
        "strategy = flwr.server.strategy.FedAvg(\n",
        "    fraction_fit=0.1,  # Sample 10% of available clients for training\n",
        "    fraction_evaluate=0,  # Disable federated evaluation\n",
        "    min_fit_clients=10,  # Never sample less than 10 clients for training\n",
        "    # min_evaluate_clients=5,  # Never sample less than 5 clients for evaluation\n",
        "    min_available_clients=int(\n",
        "        NUM_CLIENTS * 0.75\n",
        "    ),  # Wait until at least 75 clients are available\n",
        "    # evaluate_metrics_aggregation_fn=avg_metrics,  # aggregates federated metrics\n",
        "    evaluate_fn=get_evaluate_fn(testset),  # global evaluation function\n",
        ")\n",
        "\n",
        "# With a dictionary, you tell Flower's VirtualClientEngine that each\n",
        "# client needs exclusive access to these many resources in order to run\n",
        "client_resources = {\"num_cpus\": 1, \"num_gpus\": 0.0}\n",
        "\n",
        "# Start simulation\n",
        "history = flwr.simulation.start_simulation(\n",
        "    client_fn=mk_client_fn(partitions),\n",
        "    num_clients=NUM_CLIENTS,\n",
        "    config=flwr.server.ServerConfig(num_rounds=10),\n",
        "    strategy=strategy,\n",
        "    client_resources=client_resources,\n",
        "    actor_kwargs={\n",
        "        \"on_actor_init_fn\": enable_tf_gpu_growth  # Enable GPU growth upon actor init.\n",
        "    },\n",
        "    ray_init_args={\"num_gpus\": len(tf.config.list_physical_devices(\"GPU\"))},\n",
        ")"
      ],
      "metadata": {
        "colab": {
          "base_uri": "https://localhost:8080/"
        },
        "id": "S3AAlR955bbq",
        "outputId": "ce0986a3-58f6-4df4-85e4-0bb7beadb57e"
      },
      "execution_count": 17,
      "outputs": [
        {
          "output_type": "stream",
          "name": "stderr",
          "text": [
            "INFO flwr 2024-02-19 15:05:20,262 | app.py:175 | Starting Flower simulation, config: ServerConfig(num_rounds=10, round_timeout=None)\n",
            "INFO:flwr:Starting Flower simulation, config: ServerConfig(num_rounds=10, round_timeout=None)\n"
          ]
        },
        {
          "output_type": "stream",
          "name": "stdout",
          "text": [
            "x_train shape: (60000, 28, 28)\n",
            "60000 train samples\n",
            "10000 test samples\n"
          ]
        },
        {
          "output_type": "stream",
          "name": "stderr",
          "text": [
            "2024-02-19 15:05:25,896\tINFO worker.py:1612 -- Started a local Ray instance. View the dashboard at \u001b[1m\u001b[32m127.0.0.1:8265 \u001b[39m\u001b[22m\n",
            "INFO flwr 2024-02-19 15:05:28,432 | app.py:210 | Flower VCE: Ray initialized with resources: {'node:__internal_head__': 1.0, 'node:172.28.0.12': 1.0, 'CPU': 2.0, 'object_store_memory': 3921947443.0, 'memory': 7843894887.0}\n",
            "INFO:flwr:Flower VCE: Ray initialized with resources: {'node:__internal_head__': 1.0, 'node:172.28.0.12': 1.0, 'CPU': 2.0, 'object_store_memory': 3921947443.0, 'memory': 7843894887.0}\n",
            "INFO flwr 2024-02-19 15:05:28,436 | app.py:224 | Flower VCE: Resources for each Virtual Client: {'num_cpus': 1, 'num_gpus': 0.0}\n",
            "INFO:flwr:Flower VCE: Resources for each Virtual Client: {'num_cpus': 1, 'num_gpus': 0.0}\n",
            "INFO flwr 2024-02-19 15:05:28,505 | app.py:270 | Flower VCE: Creating VirtualClientEngineActorPool with 2 actors\n",
            "INFO:flwr:Flower VCE: Creating VirtualClientEngineActorPool with 2 actors\n",
            "INFO flwr 2024-02-19 15:05:28,521 | server.py:89 | Initializing global parameters\n",
            "INFO:flwr:Initializing global parameters\n",
            "INFO flwr 2024-02-19 15:05:28,530 | server.py:276 | Requesting initial parameters from one random client\n",
            "INFO:flwr:Requesting initial parameters from one random client\n",
            "INFO flwr 2024-02-19 15:05:37,958 | server.py:280 | Received initial parameters from one random client\n",
            "INFO:flwr:Received initial parameters from one random client\n",
            "INFO flwr 2024-02-19 15:05:37,969 | server.py:91 | Evaluating initial parameters\n",
            "INFO:flwr:Evaluating initial parameters\n",
            "INFO flwr 2024-02-19 15:05:40,445 | server.py:94 | initial parameters (loss, other metrics): 2.419804334640503, {'accuracy': 0.0746999979019165}\n",
            "INFO:flwr:initial parameters (loss, other metrics): 2.419804334640503, {'accuracy': 0.0746999979019165}\n",
            "INFO flwr 2024-02-19 15:05:40,450 | server.py:104 | FL starting\n",
            "INFO:flwr:FL starting\n",
            "DEBUG flwr 2024-02-19 15:05:40,452 | server.py:222 | fit_round 1: strategy sampled 10 clients (out of 100)\n",
            "DEBUG:flwr:fit_round 1: strategy sampled 10 clients (out of 100)\n",
            "\u001b[2m\u001b[36m(DefaultActor pid=4386)\u001b[0m WARNING:tensorflow:5 out of the last 5 calls to <function Model.make_test_function.<locals>.test_function at 0x7acfd79ff760> triggered tf.function retracing. Tracing is expensive and the excessive number of tracings could be due to (1) creating @tf.function repeatedly in a loop, (2) passing tensors with different shapes, (3) passing Python objects instead of tensors. For (1), please define your @tf.function outside of the loop. For (2), @tf.function has reduce_retracing=True option that can avoid unnecessary retracing. For (3), please refer to https://www.tensorflow.org/guide/function#controlling_retracing and https://www.tensorflow.org/api_docs/python/tf/function for  more details.\n",
            "DEBUG flwr 2024-02-19 15:05:50,054 | server.py:236 | fit_round 1 received 10 results and 0 failures\n",
            "DEBUG:flwr:fit_round 1 received 10 results and 0 failures\n",
            "WARNING flwr 2024-02-19 15:05:50,093 | fedavg.py:242 | No fit_metrics_aggregation_fn provided\n",
            "WARNING:flwr:No fit_metrics_aggregation_fn provided\n",
            "INFO flwr 2024-02-19 15:05:52,027 | server.py:125 | fit progress: (1, 1.8764985799789429, {'accuracy': 0.4925999939441681}, 11.575420019000035)\n",
            "INFO:flwr:fit progress: (1, 1.8764985799789429, {'accuracy': 0.4925999939441681}, 11.575420019000035)\n",
            "INFO flwr 2024-02-19 15:05:52,032 | server.py:171 | evaluate_round 1: no clients selected, cancel\n",
            "INFO:flwr:evaluate_round 1: no clients selected, cancel\n",
            "DEBUG flwr 2024-02-19 15:05:52,040 | server.py:222 | fit_round 2: strategy sampled 10 clients (out of 100)\n",
            "DEBUG:flwr:fit_round 2: strategy sampled 10 clients (out of 100)\n",
            "DEBUG flwr 2024-02-19 15:06:01,480 | server.py:236 | fit_round 2 received 10 results and 0 failures\n",
            "DEBUG:flwr:fit_round 2 received 10 results and 0 failures\n",
            "INFO flwr 2024-02-19 15:06:02,499 | server.py:125 | fit progress: (2, 1.4818751811981201, {'accuracy': 0.7138000130653381}, 22.047201895999933)\n",
            "INFO:flwr:fit progress: (2, 1.4818751811981201, {'accuracy': 0.7138000130653381}, 22.047201895999933)\n",
            "INFO flwr 2024-02-19 15:06:02,504 | server.py:171 | evaluate_round 2: no clients selected, cancel\n",
            "INFO:flwr:evaluate_round 2: no clients selected, cancel\n",
            "DEBUG flwr 2024-02-19 15:06:02,509 | server.py:222 | fit_round 3: strategy sampled 10 clients (out of 100)\n",
            "DEBUG:flwr:fit_round 3: strategy sampled 10 clients (out of 100)\n",
            "DEBUG flwr 2024-02-19 15:06:11,824 | server.py:236 | fit_round 3 received 10 results and 0 failures\n",
            "DEBUG:flwr:fit_round 3 received 10 results and 0 failures\n",
            "INFO flwr 2024-02-19 15:06:12,770 | server.py:125 | fit progress: (3, 1.174309253692627, {'accuracy': 0.7702000141143799}, 32.318418135)\n",
            "INFO:flwr:fit progress: (3, 1.174309253692627, {'accuracy': 0.7702000141143799}, 32.318418135)\n",
            "INFO flwr 2024-02-19 15:06:12,776 | server.py:171 | evaluate_round 3: no clients selected, cancel\n",
            "INFO:flwr:evaluate_round 3: no clients selected, cancel\n",
            "DEBUG flwr 2024-02-19 15:06:12,780 | server.py:222 | fit_round 4: strategy sampled 10 clients (out of 100)\n",
            "DEBUG:flwr:fit_round 4: strategy sampled 10 clients (out of 100)\n",
            "DEBUG flwr 2024-02-19 15:06:22,091 | server.py:236 | fit_round 4 received 10 results and 0 failures\n",
            "DEBUG:flwr:fit_round 4 received 10 results and 0 failures\n",
            "INFO flwr 2024-02-19 15:06:23,151 | server.py:125 | fit progress: (4, 0.9497087001800537, {'accuracy': 0.8159999847412109}, 42.69929002599997)\n",
            "INFO:flwr:fit progress: (4, 0.9497087001800537, {'accuracy': 0.8159999847412109}, 42.69929002599997)\n",
            "INFO flwr 2024-02-19 15:06:23,160 | server.py:171 | evaluate_round 4: no clients selected, cancel\n",
            "INFO:flwr:evaluate_round 4: no clients selected, cancel\n",
            "DEBUG flwr 2024-02-19 15:06:23,166 | server.py:222 | fit_round 5: strategy sampled 10 clients (out of 100)\n",
            "DEBUG:flwr:fit_round 5: strategy sampled 10 clients (out of 100)\n",
            "DEBUG flwr 2024-02-19 15:06:36,941 | server.py:236 | fit_round 5 received 10 results and 0 failures\n",
            "DEBUG:flwr:fit_round 5 received 10 results and 0 failures\n",
            "INFO flwr 2024-02-19 15:06:37,989 | server.py:125 | fit progress: (5, 0.788918673992157, {'accuracy': 0.8371000289916992}, 57.53661323100005)\n",
            "INFO:flwr:fit progress: (5, 0.788918673992157, {'accuracy': 0.8371000289916992}, 57.53661323100005)\n",
            "INFO flwr 2024-02-19 15:06:37,994 | server.py:171 | evaluate_round 5: no clients selected, cancel\n",
            "INFO:flwr:evaluate_round 5: no clients selected, cancel\n",
            "DEBUG flwr 2024-02-19 15:06:37,998 | server.py:222 | fit_round 6: strategy sampled 10 clients (out of 100)\n",
            "DEBUG:flwr:fit_round 6: strategy sampled 10 clients (out of 100)\n",
            "DEBUG flwr 2024-02-19 15:06:45,666 | server.py:236 | fit_round 6 received 10 results and 0 failures\n",
            "DEBUG:flwr:fit_round 6 received 10 results and 0 failures\n",
            "INFO flwr 2024-02-19 15:06:46,856 | server.py:125 | fit progress: (6, 0.6811584234237671, {'accuracy': 0.8551999926567078}, 66.40420568299987)\n",
            "INFO:flwr:fit progress: (6, 0.6811584234237671, {'accuracy': 0.8551999926567078}, 66.40420568299987)\n",
            "INFO flwr 2024-02-19 15:06:46,860 | server.py:171 | evaluate_round 6: no clients selected, cancel\n",
            "INFO:flwr:evaluate_round 6: no clients selected, cancel\n",
            "DEBUG flwr 2024-02-19 15:06:46,868 | server.py:222 | fit_round 7: strategy sampled 10 clients (out of 100)\n",
            "DEBUG:flwr:fit_round 7: strategy sampled 10 clients (out of 100)\n",
            "DEBUG flwr 2024-02-19 15:06:56,450 | server.py:236 | fit_round 7 received 10 results and 0 failures\n",
            "DEBUG:flwr:fit_round 7 received 10 results and 0 failures\n",
            "INFO flwr 2024-02-19 15:06:57,414 | server.py:125 | fit progress: (7, 0.603456437587738, {'accuracy': 0.8607000112533569}, 76.96236116499995)\n",
            "INFO:flwr:fit progress: (7, 0.603456437587738, {'accuracy': 0.8607000112533569}, 76.96236116499995)\n",
            "INFO flwr 2024-02-19 15:06:57,422 | server.py:171 | evaluate_round 7: no clients selected, cancel\n",
            "INFO:flwr:evaluate_round 7: no clients selected, cancel\n",
            "DEBUG flwr 2024-02-19 15:06:57,428 | server.py:222 | fit_round 8: strategy sampled 10 clients (out of 100)\n",
            "DEBUG:flwr:fit_round 8: strategy sampled 10 clients (out of 100)\n",
            "DEBUG flwr 2024-02-19 15:07:07,077 | server.py:236 | fit_round 8 received 10 results and 0 failures\n",
            "DEBUG:flwr:fit_round 8 received 10 results and 0 failures\n",
            "INFO flwr 2024-02-19 15:07:07,986 | server.py:125 | fit progress: (8, 0.5472370982170105, {'accuracy': 0.8723999857902527}, 87.53410936299997)\n",
            "INFO:flwr:fit progress: (8, 0.5472370982170105, {'accuracy': 0.8723999857902527}, 87.53410936299997)\n",
            "INFO flwr 2024-02-19 15:07:07,992 | server.py:171 | evaluate_round 8: no clients selected, cancel\n",
            "INFO:flwr:evaluate_round 8: no clients selected, cancel\n",
            "DEBUG flwr 2024-02-19 15:07:07,996 | server.py:222 | fit_round 9: strategy sampled 10 clients (out of 100)\n",
            "DEBUG:flwr:fit_round 9: strategy sampled 10 clients (out of 100)\n",
            "DEBUG flwr 2024-02-19 15:07:14,976 | server.py:236 | fit_round 9 received 10 results and 0 failures\n",
            "DEBUG:flwr:fit_round 9 received 10 results and 0 failures\n",
            "INFO flwr 2024-02-19 15:07:16,844 | server.py:125 | fit progress: (9, 0.50739985704422, {'accuracy': 0.8784999847412109}, 96.392421861)\n",
            "INFO:flwr:fit progress: (9, 0.50739985704422, {'accuracy': 0.8784999847412109}, 96.392421861)\n",
            "INFO flwr 2024-02-19 15:07:16,855 | server.py:171 | evaluate_round 9: no clients selected, cancel\n",
            "INFO:flwr:evaluate_round 9: no clients selected, cancel\n",
            "DEBUG flwr 2024-02-19 15:07:16,860 | server.py:222 | fit_round 10: strategy sampled 10 clients (out of 100)\n",
            "DEBUG:flwr:fit_round 10: strategy sampled 10 clients (out of 100)\n",
            "DEBUG flwr 2024-02-19 15:07:25,408 | server.py:236 | fit_round 10 received 10 results and 0 failures\n",
            "DEBUG:flwr:fit_round 10 received 10 results and 0 failures\n",
            "INFO flwr 2024-02-19 15:07:26,445 | server.py:125 | fit progress: (10, 0.47921186685562134, {'accuracy': 0.8815000057220459}, 105.99278764199994)\n",
            "INFO:flwr:fit progress: (10, 0.47921186685562134, {'accuracy': 0.8815000057220459}, 105.99278764199994)\n",
            "INFO flwr 2024-02-19 15:07:26,455 | server.py:171 | evaluate_round 10: no clients selected, cancel\n",
            "INFO:flwr:evaluate_round 10: no clients selected, cancel\n",
            "INFO flwr 2024-02-19 15:07:26,462 | server.py:153 | FL finished in 106.00962131000006\n",
            "INFO:flwr:FL finished in 106.00962131000006\n",
            "INFO flwr 2024-02-19 15:07:26,465 | app.py:225 | app_fit: losses_distributed []\n",
            "INFO:flwr:app_fit: losses_distributed []\n",
            "INFO flwr 2024-02-19 15:07:26,469 | app.py:226 | app_fit: metrics_distributed_fit {}\n",
            "INFO:flwr:app_fit: metrics_distributed_fit {}\n",
            "INFO flwr 2024-02-19 15:07:26,471 | app.py:227 | app_fit: metrics_distributed {}\n",
            "INFO:flwr:app_fit: metrics_distributed {}\n",
            "INFO flwr 2024-02-19 15:07:26,473 | app.py:228 | app_fit: losses_centralized [(0, 2.419804334640503), (1, 1.8764985799789429), (2, 1.4818751811981201), (3, 1.174309253692627), (4, 0.9497087001800537), (5, 0.788918673992157), (6, 0.6811584234237671), (7, 0.603456437587738), (8, 0.5472370982170105), (9, 0.50739985704422), (10, 0.47921186685562134)]\n",
            "INFO:flwr:app_fit: losses_centralized [(0, 2.419804334640503), (1, 1.8764985799789429), (2, 1.4818751811981201), (3, 1.174309253692627), (4, 0.9497087001800537), (5, 0.788918673992157), (6, 0.6811584234237671), (7, 0.603456437587738), (8, 0.5472370982170105), (9, 0.50739985704422), (10, 0.47921186685562134)]\n",
            "INFO flwr 2024-02-19 15:07:26,476 | app.py:229 | app_fit: metrics_centralized {'accuracy': [(0, 0.0746999979019165), (1, 0.4925999939441681), (2, 0.7138000130653381), (3, 0.7702000141143799), (4, 0.8159999847412109), (5, 0.8371000289916992), (6, 0.8551999926567078), (7, 0.8607000112533569), (8, 0.8723999857902527), (9, 0.8784999847412109), (10, 0.8815000057220459)]}\n",
            "INFO:flwr:app_fit: metrics_centralized {'accuracy': [(0, 0.0746999979019165), (1, 0.4925999939441681), (2, 0.7138000130653381), (3, 0.7702000141143799), (4, 0.8159999847412109), (5, 0.8371000289916992), (6, 0.8551999926567078), (7, 0.8607000112533569), (8, 0.8723999857902527), (9, 0.8784999847412109), (10, 0.8815000057220459)]}\n"
          ]
        }
      ]
    },
    {
      "cell_type": "code",
      "source": [
        "print(f\"{history.metrics_centralized = }\")\n",
        "\n",
        "global_accuracy_centralised = history.metrics_centralized[\"accuracy\"]\n",
        "round = [data[0] for data in global_accuracy_centralised]\n",
        "acc = [100.0 * data[1] for data in global_accuracy_centralised]\n",
        "\n",
        "local = score[1] * 100\n",
        "plt.axhline(\n",
        "    y=local, label=f\"Local training: {local:.4f}\", linestyle=\"--\", color=\"lightcoral\"\n",
        ")\n",
        "plt.plot(round, acc, label=f\"Federated training: {max(acc):.4f}\")\n",
        "plt.grid()\n",
        "plt.ylabel(\"Accuracy (%)\")\n",
        "plt.xlabel(\"Round\")\n",
        "plt.legend()\n",
        "plt.title(\"MNIST - IID - 100 clients with 10 clients per round\")"
      ],
      "metadata": {
        "colab": {
          "base_uri": "https://localhost:8080/",
          "height": 527
        },
        "id": "TaT-le5V6IFB",
        "outputId": "e0917131-838f-4832-f745-74ba01382ec0"
      },
      "execution_count": 18,
      "outputs": [
        {
          "output_type": "stream",
          "name": "stdout",
          "text": [
            "history.metrics_centralized = {'accuracy': [(0, 0.0746999979019165), (1, 0.4925999939441681), (2, 0.7138000130653381), (3, 0.7702000141143799), (4, 0.8159999847412109), (5, 0.8371000289916992), (6, 0.8551999926567078), (7, 0.8607000112533569), (8, 0.8723999857902527), (9, 0.8784999847412109), (10, 0.8815000057220459)]}\n"
          ]
        },
        {
          "output_type": "execute_result",
          "data": {
            "text/plain": [
              "Text(0.5, 1.0, 'MNIST - IID - 100 clients with 10 clients per round')"
            ]
          },
          "metadata": {},
          "execution_count": 18
        },
        {
          "output_type": "display_data",
          "data": {
            "text/plain": [
              "<Figure size 640x480 with 1 Axes>"
            ],
            "image/png": "[encoded data removed]"
          },
          "metadata": {}
        }
      ]
    }
  ]
}