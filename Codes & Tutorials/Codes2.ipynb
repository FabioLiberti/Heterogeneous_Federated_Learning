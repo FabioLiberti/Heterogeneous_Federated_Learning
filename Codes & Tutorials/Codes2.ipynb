{
 "cells": [
  {
   "cell_type": "code",
   "execution_count": null,
   "metadata": {},
   "outputs": [],
   "source": [
    "import tensorflow_federated as tff\n",
    "\n",
    "# Define a Global Model\n",
    "global_model = ...\n",
    "\n",
    "# Create a TFF server\n",
    "def create_server():\n",
    "    return tff.learning.framework.ServerState(\n",
    "        model=global_model,\n",
    "        optimizer=...,\n",
    "    )\n",
    "\n",
    "# Create a TFF client\n",
    "def create_client():\n",
    "    return tff.learning.framework.ClientState(\n",
    "        model=global_model,\n",
    "        optimizer=...,\n",
    "    )\n",
    "\n",
    "# Run the Federated Learning Process\n",
    "for round_num in range(num_rounds):\n",
    "    server_state, client_output = tff.learning.framework.build_federated_averaging_process(\n",
    "        model_fn=create_server,\n",
    "        client_optimizer_fn=create_client,\n",
    "    )\n",
    "    server_state, aggregated_metrics = tff.learning.framework.server_update(\n",
    "        server_state, client_output)"
   ]
  }
 ],
 "metadata": {
  "language_info": {
   "name": "python"
  }
 },
 "nbformat": 4,
 "nbformat_minor": 2
}
